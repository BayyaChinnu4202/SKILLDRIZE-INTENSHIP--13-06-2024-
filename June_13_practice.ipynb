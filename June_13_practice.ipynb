{
  "nbformat": 4,
  "nbformat_minor": 0,
  "metadata": {
    "colab": {
      "provenance": [],
      "authorship_tag": "ABX9TyNe9vG8Sv8HaQjeqqOWAAGy",
      "include_colab_link": true
    },
    "kernelspec": {
      "name": "python3",
      "display_name": "Python 3"
    },
    "language_info": {
      "name": "python"
    }
  },
  "cells": [
    {
      "cell_type": "markdown",
      "metadata": {
        "id": "view-in-github",
        "colab_type": "text"
      },
      "source": [
        "<a href=\"https://colab.research.google.com/github/BayyaChinnu4202/SKILLDRIZE-INTENSHIP--13-06-2024-/blob/main/June_13_practice.ipynb\" target=\"_parent\"><img src=\"https://colab.research.google.com/assets/colab-badge.svg\" alt=\"Open In Colab\"/></a>"
      ]
    },
    {
      "cell_type": "code",
      "execution_count": 1,
      "metadata": {
        "id": "_NlnDdqXnxcb"
      },
      "outputs": [],
      "source": [
        "Student={'rno':100,'name':'abcd','mobile':123456789}"
      ]
    },
    {
      "cell_type": "markdown",
      "source": [
        "DICTIONARY"
      ],
      "metadata": {
        "id": "FEQrBb1nokTQ"
      }
    },
    {
      "cell_type": "code",
      "source": [
        "print(type(Student))"
      ],
      "metadata": {
        "colab": {
          "base_uri": "https://localhost:8080/"
        },
        "id": "17OCSlKGoH05",
        "outputId": "9504ec53-0a1e-4197-c6b0-82d8f5f02c91"
      },
      "execution_count": 2,
      "outputs": [
        {
          "output_type": "stream",
          "name": "stdout",
          "text": [
            "<class 'dict'>\n"
          ]
        }
      ]
    },
    {
      "cell_type": "code",
      "source": [
        "S=set()"
      ],
      "metadata": {
        "id": "TWZ6kDDhoLev"
      },
      "execution_count": 3,
      "outputs": []
    },
    {
      "cell_type": "code",
      "source": [
        "print(S)"
      ],
      "metadata": {
        "colab": {
          "base_uri": "https://localhost:8080/"
        },
        "id": "bwDMXgiaoOjf",
        "outputId": "29f24974-c8dc-4960-fe0a-7ece02ca7f6a"
      },
      "execution_count": 4,
      "outputs": [
        {
          "output_type": "stream",
          "name": "stdout",
          "text": [
            "set()\n"
          ]
        }
      ]
    },
    {
      "cell_type": "code",
      "source": [
        "A={}"
      ],
      "metadata": {
        "id": "gW3LLRpyoRGw"
      },
      "execution_count": 5,
      "outputs": []
    },
    {
      "cell_type": "code",
      "source": [
        "type(A)"
      ],
      "metadata": {
        "colab": {
          "base_uri": "https://localhost:8080/"
        },
        "id": "cB8gQ2NKoT0Y",
        "outputId": "a46bb8d0-5218-4a91-a91d-36c09276795f"
      },
      "execution_count": 6,
      "outputs": [
        {
          "output_type": "execute_result",
          "data": {
            "text/plain": [
              "dict"
            ]
          },
          "metadata": {},
          "execution_count": 6
        }
      ]
    },
    {
      "cell_type": "markdown",
      "source": [
        "OPERATIONS OF DICTIONARY"
      ],
      "metadata": {
        "id": "tbGQWqhHodSQ"
      }
    },
    {
      "cell_type": "code",
      "source": [
        "print(Student)"
      ],
      "metadata": {
        "colab": {
          "base_uri": "https://localhost:8080/"
        },
        "id": "E5AuMTaVohNP",
        "outputId": "89cca375-56c4-41ce-9fe4-269e3af56353"
      },
      "execution_count": 7,
      "outputs": [
        {
          "output_type": "stream",
          "name": "stdout",
          "text": [
            "{'rno': 100, 'name': 'abcd', 'mobile': 123456789}\n"
          ]
        }
      ]
    },
    {
      "cell_type": "code",
      "source": [
        "Student['email']=\"xyz@gmail.com\""
      ],
      "metadata": {
        "id": "OI_MqBNAo74I"
      },
      "execution_count": 8,
      "outputs": []
    },
    {
      "cell_type": "code",
      "source": [
        "print(Student)"
      ],
      "metadata": {
        "colab": {
          "base_uri": "https://localhost:8080/"
        },
        "id": "aAlgsSbgpIHI",
        "outputId": "d81a50ce-500e-4a81-f818-613f39df40fa"
      },
      "execution_count": 9,
      "outputs": [
        {
          "output_type": "stream",
          "name": "stdout",
          "text": [
            "{'rno': 100, 'name': 'abcd', 'mobile': 123456789, 'email': 'xyz@gmail.com'}\n"
          ]
        }
      ]
    },
    {
      "cell_type": "code",
      "source": [
        "Student['rno']"
      ],
      "metadata": {
        "colab": {
          "base_uri": "https://localhost:8080/"
        },
        "id": "yd6khuI9pubn",
        "outputId": "3382d655-e203-4474-a387-b7d4fd5f1097"
      },
      "execution_count": 10,
      "outputs": [
        {
          "output_type": "execute_result",
          "data": {
            "text/plain": [
              "100"
            ]
          },
          "metadata": {},
          "execution_count": 10
        }
      ]
    },
    {
      "cell_type": "code",
      "source": [
        "#delete\n",
        "del Student['email']"
      ],
      "metadata": {
        "id": "GrCHd7mQqpRY"
      },
      "execution_count": 11,
      "outputs": []
    },
    {
      "cell_type": "code",
      "source": [
        "print(Student)"
      ],
      "metadata": {
        "colab": {
          "base_uri": "https://localhost:8080/"
        },
        "id": "W2iBmr3XqvEg",
        "outputId": "e2b56b1f-2f4f-4360-d931-cf253b038e55"
      },
      "execution_count": 12,
      "outputs": [
        {
          "output_type": "stream",
          "name": "stdout",
          "text": [
            "{'rno': 100, 'name': 'abcd', 'mobile': 123456789}\n"
          ]
        }
      ]
    },
    {
      "cell_type": "code",
      "source": [
        "#update\n",
        "Student['rno']=101"
      ],
      "metadata": {
        "id": "7j8-ZZTlrWfG"
      },
      "execution_count": 13,
      "outputs": []
    },
    {
      "cell_type": "code",
      "source": [
        "print(Student)"
      ],
      "metadata": {
        "colab": {
          "base_uri": "https://localhost:8080/"
        },
        "id": "v8jsqfk2reIY",
        "outputId": "89744206-134b-4df5-b9a3-30e86ca4cc33"
      },
      "execution_count": 14,
      "outputs": [
        {
          "output_type": "stream",
          "name": "stdout",
          "text": [
            "{'rno': 101, 'name': 'abcd', 'mobile': 123456789}\n"
          ]
        }
      ]
    },
    {
      "cell_type": "code",
      "source": [
        "Student['rno']=101"
      ],
      "metadata": {
        "id": "OOYV9qO9rxTf"
      },
      "execution_count": 15,
      "outputs": []
    },
    {
      "cell_type": "code",
      "source": [
        "Student['marks']=101"
      ],
      "metadata": {
        "id": "PnZjcqtOsSNH"
      },
      "execution_count": 16,
      "outputs": []
    },
    {
      "cell_type": "code",
      "source": [
        "print(Student)"
      ],
      "metadata": {
        "colab": {
          "base_uri": "https://localhost:8080/"
        },
        "id": "hL_xhicnsXCf",
        "outputId": "596fd79f-ed1f-4ea7-9111-d7beab67ec01"
      },
      "execution_count": 17,
      "outputs": [
        {
          "output_type": "stream",
          "name": "stdout",
          "text": [
            "{'rno': 101, 'name': 'abcd', 'mobile': 123456789, 'marks': 101}\n"
          ]
        }
      ]
    },
    {
      "cell_type": "code",
      "source": [
        "#keys\n",
        "Student.keys()"
      ],
      "metadata": {
        "colab": {
          "base_uri": "https://localhost:8080/"
        },
        "id": "4VvA3USvscbQ",
        "outputId": "71859f50-d357-46a4-e4fc-e01c309e7afe"
      },
      "execution_count": 18,
      "outputs": [
        {
          "output_type": "execute_result",
          "data": {
            "text/plain": [
              "dict_keys(['rno', 'name', 'mobile', 'marks'])"
            ]
          },
          "metadata": {},
          "execution_count": 18
        }
      ]
    },
    {
      "cell_type": "code",
      "source": [
        "#values\n",
        "Student.values()"
      ],
      "metadata": {
        "colab": {
          "base_uri": "https://localhost:8080/"
        },
        "id": "uutHJ8mss4tY",
        "outputId": "0ac7a259-0f74-40b3-843f-7c33a0162611"
      },
      "execution_count": 19,
      "outputs": [
        {
          "output_type": "execute_result",
          "data": {
            "text/plain": [
              "dict_values([101, 'abcd', 123456789, 101])"
            ]
          },
          "metadata": {},
          "execution_count": 19
        }
      ]
    },
    {
      "cell_type": "code",
      "source": [
        "#keys and values\n",
        "Student.items()"
      ],
      "metadata": {
        "colab": {
          "base_uri": "https://localhost:8080/"
        },
        "id": "h_Aj3Ncws-6_",
        "outputId": "71bffdd6-49bd-4f2a-86fe-3e9836fd742d"
      },
      "execution_count": 20,
      "outputs": [
        {
          "output_type": "execute_result",
          "data": {
            "text/plain": [
              "dict_items([('rno', 101), ('name', 'abcd'), ('mobile', 123456789), ('marks', 101)])"
            ]
          },
          "metadata": {},
          "execution_count": 20
        }
      ]
    },
    {
      "cell_type": "code",
      "source": [
        "print(Student)"
      ],
      "metadata": {
        "colab": {
          "base_uri": "https://localhost:8080/"
        },
        "id": "4cKgYMbjtIK_",
        "outputId": "30683eb2-1cb3-4172-bedd-6dcfb9c20c31"
      },
      "execution_count": 21,
      "outputs": [
        {
          "output_type": "stream",
          "name": "stdout",
          "text": [
            "{'rno': 101, 'name': 'abcd', 'mobile': 123456789, 'marks': 101}\n"
          ]
        }
      ]
    },
    {
      "cell_type": "code",
      "source": [
        "len(Student)"
      ],
      "metadata": {
        "colab": {
          "base_uri": "https://localhost:8080/"
        },
        "id": "HubAmN-XtYbv",
        "outputId": "238c68c3-3026-4002-b38e-1ae6d0e4dab4"
      },
      "execution_count": 22,
      "outputs": [
        {
          "output_type": "execute_result",
          "data": {
            "text/plain": [
              "4"
            ]
          },
          "metadata": {},
          "execution_count": 22
        }
      ]
    },
    {
      "cell_type": "code",
      "source": [
        "for i in Student:\n",
        "  print(i)"
      ],
      "metadata": {
        "colab": {
          "base_uri": "https://localhost:8080/"
        },
        "id": "NY8YHunXt6oe",
        "outputId": "c869f7b8-25ac-4496-9bdb-6af056f1ce0d"
      },
      "execution_count": 23,
      "outputs": [
        {
          "output_type": "stream",
          "name": "stdout",
          "text": [
            "rno\n",
            "name\n",
            "mobile\n",
            "marks\n"
          ]
        }
      ]
    },
    {
      "cell_type": "code",
      "source": [
        "#display values\n",
        "for i in Student.values():\n",
        "  print(i)"
      ],
      "metadata": {
        "colab": {
          "base_uri": "https://localhost:8080/"
        },
        "id": "VJ3lDJrNukKw",
        "outputId": "f0685070-b880-40ad-a06c-7188ffe41114"
      },
      "execution_count": 26,
      "outputs": [
        {
          "output_type": "stream",
          "name": "stdout",
          "text": [
            "101\n",
            "abcd\n",
            "123456789\n",
            "101\n"
          ]
        }
      ]
    },
    {
      "cell_type": "code",
      "source": [
        "for i in Student.keys():\n",
        "  print(i)"
      ],
      "metadata": {
        "colab": {
          "base_uri": "https://localhost:8080/"
        },
        "id": "m8sFtBtjuxF_",
        "outputId": "9c6a7a15-32c3-4ba3-d7b1-d66150392579"
      },
      "execution_count": 27,
      "outputs": [
        {
          "output_type": "stream",
          "name": "stdout",
          "text": [
            "rno\n",
            "name\n",
            "mobile\n",
            "marks\n"
          ]
        }
      ]
    },
    {
      "cell_type": "code",
      "source": [
        "print(Student)\n",
        "'rno' in Student"
      ],
      "metadata": {
        "colab": {
          "base_uri": "https://localhost:8080/"
        },
        "id": "bK9Eryfeu1s-",
        "outputId": "7e1ea12f-e868-40d2-f1cf-4b16215e0fee"
      },
      "execution_count": 28,
      "outputs": [
        {
          "output_type": "stream",
          "name": "stdout",
          "text": [
            "{'rno': 101, 'name': 'abcd', 'mobile': 123456789, 'marks': 101}\n"
          ]
        },
        {
          "output_type": "execute_result",
          "data": {
            "text/plain": [
              "True"
            ]
          },
          "metadata": {},
          "execution_count": 28
        }
      ]
    },
    {
      "cell_type": "code",
      "source": [
        "#nested dictionary\n",
        "Stu1={'rno':100,'name':'abcd','dob':{'date':8,'month':10,'year':2001}}"
      ],
      "metadata": {
        "id": "Wr7HkNNmvs_g"
      },
      "execution_count": 30,
      "outputs": []
    },
    {
      "cell_type": "code",
      "source": [
        "Stu1['dob']"
      ],
      "metadata": {
        "colab": {
          "base_uri": "https://localhost:8080/"
        },
        "id": "QQsXJC2FwMa4",
        "outputId": "d52c6136-0081-4afb-9a6f-752f4d29e1fd"
      },
      "execution_count": 31,
      "outputs": [
        {
          "output_type": "execute_result",
          "data": {
            "text/plain": [
              "{'date': 8, 'month': 10, 'year': 2001}"
            ]
          },
          "metadata": {},
          "execution_count": 31
        }
      ]
    }
  ]
}